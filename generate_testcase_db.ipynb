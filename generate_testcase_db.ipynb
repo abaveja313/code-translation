{
 "cells": [
  {
   "cell_type": "code",
   "execution_count": null,
   "outputs": [],
   "source": [],
   "metadata": {
    "collapsed": false
   }
  },
  {
   "cell_type": "code",
   "execution_count": 1,
   "metadata": {
    "collapsed": true,
    "ExecuteTime": {
     "end_time": "2024-01-04T13:42:22.425149Z",
     "start_time": "2024-01-04T13:42:22.311663Z"
    }
   },
   "outputs": [],
   "source": [
    "from sqlalchemy import create_engine"
   ]
  },
  {
   "cell_type": "code",
   "execution_count": 2,
   "outputs": [],
   "source": [
    "engine = create_engine('sqlite:///tests.db')"
   ],
   "metadata": {
    "collapsed": false,
    "ExecuteTime": {
     "end_time": "2024-01-04T13:42:24.518175Z",
     "start_time": "2024-01-04T13:42:24.504880Z"
    }
   }
  },
  {
   "cell_type": "code",
   "execution_count": 3,
   "outputs": [],
   "source": [
    "import pandas as pd\n",
    "from loguru import logger"
   ],
   "metadata": {
    "collapsed": false,
    "ExecuteTime": {
     "end_time": "2024-01-04T13:42:25.102673Z",
     "start_time": "2024-01-04T13:42:24.848006Z"
    }
   }
  },
  {
   "cell_type": "code",
   "execution_count": 4,
   "outputs": [],
   "source": [
    "def create_test_set(*, test_path: str, testcase_path: str) -> pd.DataFrame:\n",
    "    test_df = pd.read_json(test_path, lines=True)\n",
    "    # Use vectorized string concatenation\n",
    "    test_df[\"sample_id\"] = test_df[\"id\"].astype(str) + \"_\" + test_df[\"sol\"].astype(str)\n",
    "\n",
    "    logger.debug(f\"Test Dataset has {len(test_df)} entries\")\n",
    "\n",
    "    testcase_df = pd.read_json(testcase_path, lines=True).set_index(\"avatar_id\")\n",
    "    test_filtered = test_df[test_df.id.isin(testcase_df.index)]\n",
    "\n",
    "    logger.debug(f\"Testcase Dataset has {len(testcase_df)} entries\")\n",
    "\n",
    "    # Perform a left merge on the 'id' column of test_df and the index of testcase_df\n",
    "    merged_df = pd.merge(\n",
    "        test_filtered, testcase_df, left_on=\"id\", right_index=True, how=\"left\"\n",
    "    )\n",
    "\n",
    "    logger.info(f\"Merged dataset has {len(merged_df)} entries\")\n",
    "    logger.debug(merged_df.head(2))\n",
    "    return merged_df.set_index(\"sample_id\")"
   ],
   "metadata": {
    "collapsed": false,
    "ExecuteTime": {
     "end_time": "2024-01-04T13:42:25.690425Z",
     "start_time": "2024-01-04T13:42:25.685152Z"
    }
   }
  },
  {
   "cell_type": "code",
   "execution_count": 5,
   "outputs": [
    {
     "name": "stderr",
     "output_type": "stream",
     "text": [
      "\u001B[32m2024-01-04 14:42:26.210\u001B[0m | \u001B[34m\u001B[1mDEBUG   \u001B[0m | \u001B[36m__main__\u001B[0m:\u001B[36mcreate_test_set\u001B[0m:\u001B[36m6\u001B[0m - \u001B[34m\u001B[1mTest Dataset has 3046 entries\u001B[0m\n",
      "\u001B[32m2024-01-04 14:42:26.262\u001B[0m | \u001B[34m\u001B[1mDEBUG   \u001B[0m | \u001B[36m__main__\u001B[0m:\u001B[36mcreate_test_set\u001B[0m:\u001B[36m11\u001B[0m - \u001B[34m\u001B[1mTestcase Dataset has 1314 entries\u001B[0m\n",
      "\u001B[32m2024-01-04 14:42:26.264\u001B[0m | \u001B[1mINFO    \u001B[0m | \u001B[36m__main__\u001B[0m:\u001B[36mcreate_test_set\u001B[0m:\u001B[36m18\u001B[0m - \u001B[1mMerged dataset has 431 entries\u001B[0m\n",
      "\u001B[32m2024-01-04 14:42:26.265\u001B[0m | \u001B[34m\u001B[1mDEBUG   \u001B[0m | \u001B[36m__main__\u001B[0m:\u001B[36mcreate_test_set\u001B[0m:\u001B[36m19\u001B[0m - \u001B[34m\u001B[1m                  id  sol                                        python_code  \\\n",
      "9   atcoder_ABC175_D    0  N , K = map ( int , input ( ).split ( ) )\\nP =...   \n",
      "12  codeforces_581_B    0  n = int ( input ( ) )\\narr = list ( map ( int ...   \n",
      "\n",
      "                                python_code_tokenized           sample_id  \\\n",
      "9   N , K = map ( int , input ( ) . split ( ) ) NE...  atcoder_ABC175_D_0   \n",
      "12  n = int ( input ( ) ) NEW_LINE arr = list ( ma...  codeforces_581_B_0   \n",
      "\n",
      "                                               inputs  \\\n",
      "9   [ABC175/D/in/29.txt, ABC175/D/in/15.txt, ABC17...   \n",
      "12  [581_B/samples/10_input.txt, 581_B/samples/31_...   \n",
      "\n",
      "                                              outputs  \n",
      "9   [ABC175/D/out/29.txt, ABC175/D/out/15.txt, ABC...  \n",
      "12  [581_B/samples/10_output.txt, 581_B/samples/31...  \u001B[0m\n"
     ]
    }
   ],
   "source": [
    "df = create_test_set(test_path=\"test.java-python.id_code\", testcase_path=\"combined_id2tests.jsonl\")"
   ],
   "metadata": {
    "collapsed": false,
    "ExecuteTime": {
     "end_time": "2024-01-04T13:42:26.274316Z",
     "start_time": "2024-01-04T13:42:26.178956Z"
    }
   }
  },
  {
   "cell_type": "code",
   "execution_count": 5,
   "outputs": [],
   "source": [],
   "metadata": {
    "collapsed": false,
    "ExecuteTime": {
     "end_time": "2024-01-04T13:42:26.865503Z",
     "start_time": "2024-01-04T13:42:26.863026Z"
    }
   }
  },
  {
   "cell_type": "code",
   "execution_count": 5,
   "outputs": [],
   "source": [],
   "metadata": {
    "collapsed": false,
    "ExecuteTime": {
     "end_time": "2024-01-04T13:42:27.378098Z",
     "start_time": "2024-01-04T13:42:27.375030Z"
    }
   }
  },
  {
   "cell_type": "code",
   "execution_count": 6,
   "outputs": [],
   "source": [
    "import os\n",
    "import json\n",
    "\n",
    "\n",
    "def generate(row):\n",
    "    if row.id.startswith('atcoder'):\n",
    "        path = '../../test_cases/atcoder_test_cases'\n",
    "    else:\n",
    "        path = '../../test_cases/description2code_current/codeforces'\n",
    "\n",
    "    # Initialize the lists outside the loop\n",
    "    data = []\n",
    "\n",
    "    for i, o in zip(row['inputs'], row['outputs']):\n",
    "        input_file = os.path.join(path, i)\n",
    "        output_file = os.path.join(path, o)\n",
    "        obj = {\n",
    "            'test_case_name': i\n",
    "        }\n",
    "        with open(input_file, 'r') as i_f:\n",
    "            obj['input'] = i_f.read()\n",
    "\n",
    "        with open(output_file, 'r') as o_f:\n",
    "            obj['output'] = o_f.read()\n",
    "\n",
    "        data.append(obj)\n",
    "    row['tcs'] = json.dumps(data)\n",
    "    return row\n",
    "\n",
    "\n",
    "# Assuming df is your DataFrame\n",
    "df = df.apply(generate, axis=1)"
   ],
   "metadata": {
    "collapsed": false,
    "ExecuteTime": {
     "end_time": "2024-01-04T13:42:33.207333Z",
     "start_time": "2024-01-04T13:42:27.686195Z"
    }
   }
  },
  {
   "cell_type": "code",
   "execution_count": 6,
   "outputs": [],
   "source": [],
   "metadata": {
    "collapsed": false,
    "ExecuteTime": {
     "end_time": "2024-01-04T13:42:33.209999Z",
     "start_time": "2024-01-04T13:42:33.207535Z"
    }
   }
  },
  {
   "cell_type": "code",
   "execution_count": 7,
   "outputs": [],
   "source": [
    "df = df[['id', 'python_code', 'tcs']]"
   ],
   "metadata": {
    "collapsed": false,
    "ExecuteTime": {
     "end_time": "2024-01-04T13:42:33.213626Z",
     "start_time": "2024-01-04T13:42:33.211594Z"
    }
   }
  },
  {
   "cell_type": "code",
   "execution_count": 8,
   "outputs": [
    {
     "data": {
      "text/plain": "                                  id  \\\nsample_id                              \natcoder_ABC175_D_0  atcoder_ABC175_D   \ncodeforces_581_B_0  codeforces_581_B   \ncodeforces_253_A_0  codeforces_253_A   \natcoder_AGC003_C_0  atcoder_AGC003_C   \natcoder_ABC127_B_0  atcoder_ABC127_B   \n...                              ...   \ncodeforces_266_A_0  codeforces_266_A   \natcoder_ARC075_C_0  atcoder_ARC075_C   \ncodeforces_597_A_0  codeforces_597_A   \ncodeforces_230_B_0  codeforces_230_B   \natcoder_AGC014_B_0  atcoder_AGC014_B   \n\n                                                          python_code  \\\nsample_id                                                               \natcoder_ABC175_D_0  N , K = map ( int , input ( ).split ( ) )\\nP =...   \ncodeforces_581_B_0  n = int ( input ( ) )\\narr = list ( map ( int ...   \ncodeforces_253_A_0  with open ( \"input.txt\" , \"r\" ) as inp :\\n    ...   \natcoder_AGC003_C_0  N = int ( input ( ) )\\nA = [ int ( input ( ) )...   \natcoder_ABC127_B_0  r , D , x = map ( int , input ( ).split ( ) )\\...   \n...                                                               ...   \ncodeforces_266_A_0  n = int ( input ( ) )\\ns = input ( )\\ncount = ...   \natcoder_ARC075_C_0  class BIT :\\n    def __init__ ( self , n ) :\\n...   \ncodeforces_597_A_0  k , a , b = map ( int , input ( ).split ( ) )\\...   \ncodeforces_230_B_0  n , m = int ( input ( ) ) , [ int ( t ) for t ...   \natcoder_AGC014_B_0  import sys\\nYES = \"YES\"\\nNO = \"NO\"\\ndef solve ...   \n\n                                                                  tcs  \nsample_id                                                              \natcoder_ABC175_D_0  [{\"test_case_name\": \"ABC175/D/in/29.txt\", \"inp...  \ncodeforces_581_B_0  [{\"test_case_name\": \"581_B/samples/10_input.tx...  \ncodeforces_253_A_0  [{\"test_case_name\": \"253_A/samples/10_input.tx...  \natcoder_AGC003_C_0  [{\"test_case_name\": \"AGC003/C/in/15.txt\", \"inp...  \natcoder_ABC127_B_0  [{\"test_case_name\": \"ABC127/B/in/15.txt\", \"inp...  \n...                                                               ...  \ncodeforces_266_A_0  [{\"test_case_name\": \"266_A/samples/10_input.tx...  \natcoder_ARC075_C_0  [{\"test_case_name\": \"ARC075/C/in/b10\", \"input\"...  \ncodeforces_597_A_0  [{\"test_case_name\": \"597_A/samples/10_input.tx...  \ncodeforces_230_B_0  [{\"test_case_name\": \"230_B/samples/10_input.tx...  \natcoder_AGC014_B_0  [{\"test_case_name\": \"AGC014/B/in/in9.txt\", \"in...  \n\n[431 rows x 3 columns]",
      "text/html": "<div>\n<style scoped>\n    .dataframe tbody tr th:only-of-type {\n        vertical-align: middle;\n    }\n\n    .dataframe tbody tr th {\n        vertical-align: top;\n    }\n\n    .dataframe thead th {\n        text-align: right;\n    }\n</style>\n<table border=\"1\" class=\"dataframe\">\n  <thead>\n    <tr style=\"text-align: right;\">\n      <th></th>\n      <th>id</th>\n      <th>python_code</th>\n      <th>tcs</th>\n    </tr>\n    <tr>\n      <th>sample_id</th>\n      <th></th>\n      <th></th>\n      <th></th>\n    </tr>\n  </thead>\n  <tbody>\n    <tr>\n      <th>atcoder_ABC175_D_0</th>\n      <td>atcoder_ABC175_D</td>\n      <td>N , K = map ( int , input ( ).split ( ) )\\nP =...</td>\n      <td>[{\"test_case_name\": \"ABC175/D/in/29.txt\", \"inp...</td>\n    </tr>\n    <tr>\n      <th>codeforces_581_B_0</th>\n      <td>codeforces_581_B</td>\n      <td>n = int ( input ( ) )\\narr = list ( map ( int ...</td>\n      <td>[{\"test_case_name\": \"581_B/samples/10_input.tx...</td>\n    </tr>\n    <tr>\n      <th>codeforces_253_A_0</th>\n      <td>codeforces_253_A</td>\n      <td>with open ( \"input.txt\" , \"r\" ) as inp :\\n    ...</td>\n      <td>[{\"test_case_name\": \"253_A/samples/10_input.tx...</td>\n    </tr>\n    <tr>\n      <th>atcoder_AGC003_C_0</th>\n      <td>atcoder_AGC003_C</td>\n      <td>N = int ( input ( ) )\\nA = [ int ( input ( ) )...</td>\n      <td>[{\"test_case_name\": \"AGC003/C/in/15.txt\", \"inp...</td>\n    </tr>\n    <tr>\n      <th>atcoder_ABC127_B_0</th>\n      <td>atcoder_ABC127_B</td>\n      <td>r , D , x = map ( int , input ( ).split ( ) )\\...</td>\n      <td>[{\"test_case_name\": \"ABC127/B/in/15.txt\", \"inp...</td>\n    </tr>\n    <tr>\n      <th>...</th>\n      <td>...</td>\n      <td>...</td>\n      <td>...</td>\n    </tr>\n    <tr>\n      <th>codeforces_266_A_0</th>\n      <td>codeforces_266_A</td>\n      <td>n = int ( input ( ) )\\ns = input ( )\\ncount = ...</td>\n      <td>[{\"test_case_name\": \"266_A/samples/10_input.tx...</td>\n    </tr>\n    <tr>\n      <th>atcoder_ARC075_C_0</th>\n      <td>atcoder_ARC075_C</td>\n      <td>class BIT :\\n    def __init__ ( self , n ) :\\n...</td>\n      <td>[{\"test_case_name\": \"ARC075/C/in/b10\", \"input\"...</td>\n    </tr>\n    <tr>\n      <th>codeforces_597_A_0</th>\n      <td>codeforces_597_A</td>\n      <td>k , a , b = map ( int , input ( ).split ( ) )\\...</td>\n      <td>[{\"test_case_name\": \"597_A/samples/10_input.tx...</td>\n    </tr>\n    <tr>\n      <th>codeforces_230_B_0</th>\n      <td>codeforces_230_B</td>\n      <td>n , m = int ( input ( ) ) , [ int ( t ) for t ...</td>\n      <td>[{\"test_case_name\": \"230_B/samples/10_input.tx...</td>\n    </tr>\n    <tr>\n      <th>atcoder_AGC014_B_0</th>\n      <td>atcoder_AGC014_B</td>\n      <td>import sys\\nYES = \"YES\"\\nNO = \"NO\"\\ndef solve ...</td>\n      <td>[{\"test_case_name\": \"AGC014/B/in/in9.txt\", \"in...</td>\n    </tr>\n  </tbody>\n</table>\n<p>431 rows × 3 columns</p>\n</div>"
     },
     "execution_count": 8,
     "metadata": {},
     "output_type": "execute_result"
    }
   ],
   "source": [
    "df"
   ],
   "metadata": {
    "collapsed": false,
    "ExecuteTime": {
     "end_time": "2024-01-04T13:42:34.232806Z",
     "start_time": "2024-01-04T13:42:34.183768Z"
    }
   }
  },
  {
   "cell_type": "markdown",
   "source": [
    "df.to_sql?"
   ],
   "metadata": {
    "collapsed": false
   }
  },
  {
   "cell_type": "code",
   "execution_count": 9,
   "outputs": [
    {
     "data": {
      "text/plain": "431"
     },
     "execution_count": 9,
     "metadata": {},
     "output_type": "execute_result"
    }
   ],
   "source": [
    "df.to_sql(name='tcs', con=engine)"
   ],
   "metadata": {
    "collapsed": false,
    "ExecuteTime": {
     "end_time": "2024-01-04T13:42:38.784997Z",
     "start_time": "2024-01-04T13:42:36.506133Z"
    }
   }
  },
  {
   "cell_type": "code",
   "execution_count": null,
   "outputs": [],
   "source": [],
   "metadata": {
    "collapsed": false
   }
  },
  {
   "cell_type": "code",
   "execution_count": 29,
   "outputs": [
    {
     "data": {
      "text/plain": "Engine(sqlite:///testcases.db)"
     },
     "execution_count": 29,
     "metadata": {},
     "output_type": "execute_result"
    }
   ],
   "source": [
    "engine"
   ],
   "metadata": {
    "collapsed": false,
    "ExecuteTime": {
     "end_time": "2024-01-04T12:41:40.329319Z",
     "start_time": "2024-01-04T12:41:40.321779Z"
    }
   }
  },
  {
   "cell_type": "code",
   "execution_count": 10,
   "outputs": [
    {
     "ename": "NameError",
     "evalue": "name 'ks' is not defined",
     "output_type": "error",
     "traceback": [
      "\u001B[0;31m---------------------------------------------------------------------------\u001B[0m",
      "\u001B[0;31mNameError\u001B[0m                                 Traceback (most recent call last)",
      "Cell \u001B[0;32mIn[10], line 1\u001B[0m\n\u001B[0;32m----> 1\u001B[0m s\u001B[38;5;241m=\u001B[39m\u001B[43mks\u001B[49m\n",
      "\u001B[0;31mNameError\u001B[0m: name 'ks' is not defined"
     ]
    }
   ],
   "source": [
    "s=ks"
   ],
   "metadata": {
    "collapsed": false,
    "ExecuteTime": {
     "end_time": "2024-01-04T13:43:10.634963Z",
     "start_time": "2024-01-04T13:43:10.165319Z"
    }
   }
  },
  {
   "cell_type": "code",
   "execution_count": 11,
   "outputs": [
    {
     "ename": "NameError",
     "evalue": "name 'ks' is not defined",
     "output_type": "error",
     "traceback": [
      "\u001B[0;31m---------------------------------------------------------------------------\u001B[0m",
      "\u001B[0;31mNameError\u001B[0m                                 Traceback (most recent call last)",
      "Cell \u001B[0;32mIn[11], line 1\u001B[0m\n\u001B[0;32m----> 1\u001B[0m \u001B[43mks\u001B[49m\n",
      "\u001B[0;31mNameError\u001B[0m: name 'ks' is not defined"
     ]
    }
   ],
   "source": [
    "ks"
   ],
   "metadata": {
    "collapsed": false,
    "ExecuteTime": {
     "end_time": "2024-01-04T13:43:11.041599Z",
     "start_time": "2024-01-04T13:43:11.036796Z"
    }
   }
  },
  {
   "cell_type": "code",
   "execution_count": 12,
   "outputs": [
    {
     "name": "stdout",
     "output_type": "stream",
     "text": [
      "__init__.py                 \u001B[1m\u001B[36msampled_outputs\u001B[m\u001B[m/\r\n",
      "\u001B[1m\u001B[36m__pycache__\u001B[m\u001B[m/                \u001B[1m\u001B[36msampler\u001B[m\u001B[m/\r\n",
      "baseline_analysis.ipynb     sampler.py\r\n",
      "calculate_baseline.py       start_slurm.py\r\n",
      "codellama-13b-inst.gguf     test.java-python.id_code\r\n",
      "combined_id2tests.jsonl     testcases.db\r\n",
      "evaluator.py                tests.db\r\n",
      "\u001B[1m\u001B[36mfinetuning\u001B[m\u001B[m/                 \u001B[1m\u001B[36mtmp\u001B[m\u001B[m/\r\n",
      "generate_samples.py         utils.py\r\n",
      "generate_testcase_db.ipynb  \u001B[1m\u001B[36mworkers\u001B[m\u001B[m/\r\n",
      "\u001B[1m\u001B[36moutput\u001B[m\u001B[m/\r\n"
     ]
    }
   ],
   "source": [
    "ls"
   ],
   "metadata": {
    "collapsed": false,
    "ExecuteTime": {
     "end_time": "2024-01-04T13:43:15.041017Z",
     "start_time": "2024-01-04T13:43:14.808921Z"
    }
   }
  },
  {
   "cell_type": "code",
   "execution_count": null,
   "outputs": [],
   "source": [],
   "metadata": {
    "collapsed": false
   }
  }
 ],
 "metadata": {
  "kernelspec": {
   "display_name": "Python 3",
   "language": "python",
   "name": "python3"
  },
  "language_info": {
   "codemirror_mode": {
    "name": "ipython",
    "version": 2
   },
   "file_extension": ".py",
   "mimetype": "text/x-python",
   "name": "python",
   "nbconvert_exporter": "python",
   "pygments_lexer": "ipython2",
   "version": "2.7.6"
  }
 },
 "nbformat": 4,
 "nbformat_minor": 0
}
